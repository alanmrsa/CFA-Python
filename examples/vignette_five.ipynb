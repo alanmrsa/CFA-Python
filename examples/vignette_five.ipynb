{
 "cells": [
  {
   "cell_type": "code",
   "execution_count": 1,
   "metadata": {},
   "outputs": [],
   "source": [
    "import numpy as np\n",
    "import pandas as pd\n",
    "import matplotlib.pyplot as plt\n",
    "import seaborn as sns\n",
    "import rpy2.robjects as robjects\n",
    "import rpy2.robjects.pandas2ri as pandas2ri\n",
    "from rpy2.robjects.conversion import localconverter\n",
    "from rpy2.robjects.packages import importr, isinstalled\n",
    "import rpy2.robjects.packages as rpackages\n",
    "from rpy2.robjects import r\n",
    "import sys\n",
    "\n",
    "import sys\n",
    "sys.path.insert(0, '/Users/alanma/Documents/CFA_python')\n",
    "import faircause.faircause as faircause\n",
    "import faircause.fairprediction as fairprediction\n"
   ]
  },
  {
   "cell_type": "code",
   "execution_count": 2,
   "metadata": {},
   "outputs": [
    {
     "name": "stdout",
     "output_type": "stream",
     "text": [
      "\n",
      "    WARNING: The R package \"reticulate\" only fixed recently\n",
      "    an issue that caused a segfault when used with rpy2:\n",
      "    https://github.com/rstudio/reticulate/pull/1188\n",
      "    Make sure that you use a version of that package that includes\n",
      "    the fix.\n",
      "    "
     ]
    }
   ],
   "source": [
    "# import\n",
    "base = importr('base')\n",
    "faircause = importr('faircause')\n",
    "\n",
    "# Load census dataset\n",
    "data = robjects.r('''\n",
    "    get(data(\"compas\", package = \"faircause\"))\n",
    "\n",
    "''')\n",
    "\n",
    "# Convert to pd\n",
    "with localconverter(robjects.default_converter + pandas2ri.converter):\n",
    "  data = robjects.conversion.rpy2py(data)\n",
    "data.reset_index(drop=True, inplace=True)"
   ]
  },
  {
   "cell_type": "code",
   "execution_count": 3,
   "metadata": {},
   "outputs": [
    {
     "data": {
      "text/html": [
       "<div>\n",
       "<style scoped>\n",
       "    .dataframe tbody tr th:only-of-type {\n",
       "        vertical-align: middle;\n",
       "    }\n",
       "\n",
       "    .dataframe tbody tr th {\n",
       "        vertical-align: top;\n",
       "    }\n",
       "\n",
       "    .dataframe thead th {\n",
       "        text-align: right;\n",
       "    }\n",
       "</style>\n",
       "<table border=\"1\" class=\"dataframe\">\n",
       "  <thead>\n",
       "    <tr style=\"text-align: right;\">\n",
       "      <th></th>\n",
       "      <th>sex</th>\n",
       "      <th>age</th>\n",
       "      <th>race</th>\n",
       "      <th>juv_fel_count</th>\n",
       "      <th>juv_misd_count</th>\n",
       "      <th>juv_other_count</th>\n",
       "      <th>priors_count</th>\n",
       "      <th>c_charge_degree</th>\n",
       "      <th>two_year_recid</th>\n",
       "    </tr>\n",
       "  </thead>\n",
       "  <tbody>\n",
       "    <tr>\n",
       "      <th>0</th>\n",
       "      <td>Male</td>\n",
       "      <td>69</td>\n",
       "      <td>Non-White</td>\n",
       "      <td>0</td>\n",
       "      <td>0</td>\n",
       "      <td>0</td>\n",
       "      <td>0</td>\n",
       "      <td>F</td>\n",
       "      <td>0</td>\n",
       "    </tr>\n",
       "    <tr>\n",
       "      <th>1</th>\n",
       "      <td>Male</td>\n",
       "      <td>34</td>\n",
       "      <td>Non-White</td>\n",
       "      <td>0</td>\n",
       "      <td>0</td>\n",
       "      <td>0</td>\n",
       "      <td>0</td>\n",
       "      <td>F</td>\n",
       "      <td>1</td>\n",
       "    </tr>\n",
       "    <tr>\n",
       "      <th>2</th>\n",
       "      <td>Male</td>\n",
       "      <td>24</td>\n",
       "      <td>Non-White</td>\n",
       "      <td>0</td>\n",
       "      <td>0</td>\n",
       "      <td>1</td>\n",
       "      <td>4</td>\n",
       "      <td>F</td>\n",
       "      <td>1</td>\n",
       "    </tr>\n",
       "    <tr>\n",
       "      <th>3</th>\n",
       "      <td>Male</td>\n",
       "      <td>23</td>\n",
       "      <td>Non-White</td>\n",
       "      <td>0</td>\n",
       "      <td>1</td>\n",
       "      <td>0</td>\n",
       "      <td>1</td>\n",
       "      <td>F</td>\n",
       "      <td>0</td>\n",
       "    </tr>\n",
       "    <tr>\n",
       "      <th>4</th>\n",
       "      <td>Male</td>\n",
       "      <td>43</td>\n",
       "      <td>Non-White</td>\n",
       "      <td>0</td>\n",
       "      <td>0</td>\n",
       "      <td>0</td>\n",
       "      <td>2</td>\n",
       "      <td>F</td>\n",
       "      <td>0</td>\n",
       "    </tr>\n",
       "  </tbody>\n",
       "</table>\n",
       "</div>"
      ],
      "text/plain": [
       "    sex  age       race  juv_fel_count  juv_misd_count  juv_other_count  \\\n",
       "0  Male   69  Non-White              0               0                0   \n",
       "1  Male   34  Non-White              0               0                0   \n",
       "2  Male   24  Non-White              0               0                1   \n",
       "3  Male   23  Non-White              0               1                0   \n",
       "4  Male   43  Non-White              0               0                0   \n",
       "\n",
       "   priors_count c_charge_degree  two_year_recid  \n",
       "0             0               F               0  \n",
       "1             0               F               1  \n",
       "2             4               F               1  \n",
       "3             1               F               0  \n",
       "4             2               F               0  "
      ]
     },
     "execution_count": 3,
     "metadata": {},
     "output_type": "execute_result"
    }
   ],
   "source": [
    "data.head()"
   ]
  },
  {
   "cell_type": "code",
   "execution_count": 4,
   "metadata": {},
   "outputs": [],
   "source": [
    "# one hot\n",
    "data['sex'] = (data['sex'] != 'Male').astype(int)\n",
    "data['race'] = (data['race'] != 'White').astype(int)\n",
    "data['c_charge_degree'] = (data['c_charge_degree'] != 'M').astype(int)"
   ]
  },
  {
   "cell_type": "code",
   "execution_count": 5,
   "metadata": {},
   "outputs": [],
   "source": [
    "X = \"race\"\n",
    "W = [\"juv_fel_count\", \"juv_misd_count\", \"juv_other_count\", \"priors_count\",\n",
    "        \"c_charge_degree\"]\n",
    "Z = [\"age\", \"sex\"]\n",
    "Y = \"two_year_recid\"\n",
    "x0 = 0\n",
    "x1 = 1"
   ]
  },
  {
   "cell_type": "code",
   "execution_count": 6,
   "metadata": {},
   "outputs": [],
   "source": [
    "import faircause.fairprediction as fairprediction\n",
    "fair_pred = fairprediction.FairPredict(data, X, Z, W, Y, \n",
    "                                       x0=x0, x1=x1, BN=[\"IE\"])\n"
   ]
  },
  {
   "cell_type": "code",
   "execution_count": 7,
   "metadata": {},
   "outputs": [
    {
     "name": "stderr",
     "output_type": "stream",
     "text": [
      "/Users/alanma/Documents/CFA_python/faircause/estimation/mediation_dml.py:156: RuntimeWarning: invalid value encountered in divide\n",
      "  y1[ts] = (Y.loc[ts].values - y_z1_ts) * (X.loc[ts] == 1).values / (px_z_ts) + y_z1_ts\n",
      "/Users/alanma/Documents/CFA_python/faircause/estimation/mediation_dml.py:156: RuntimeWarning: divide by zero encountered in divide\n",
      "  y1[ts] = (Y.loc[ts].values - y_z1_ts) * (X.loc[ts] == 1).values / (px_z_ts) + y_z1_ts\n",
      "/Users/alanma/Documents/CFA_python/faircause/estimation/mediation_dml.py:156: RuntimeWarning: invalid value encountered in divide\n",
      "  y1[ts] = (Y.loc[ts].values - y_z1_ts) * (X.loc[ts] == 1).values / (px_z_ts) + y_z1_ts\n"
     ]
    },
    {
     "name": "stdout",
     "output_type": "stream",
     "text": [
      "4.2 percent of extreme P(x|z) or p(x|z,w) prob\n",
      " Reported results are for the overlap pop. Consider investigating overlap issues\n"
     ]
    },
    {
     "name": "stderr",
     "output_type": "stream",
     "text": [
      "/Users/alanma/Documents/CFA_python/faircause/estimation/mediation_dml.py:155: RuntimeWarning: invalid value encountered in divide\n",
      "  y0[ts] = (Y.loc[ts].values - y_z0_ts) * (X.loc[ts] == 0).values / (1-px_z_ts) + y_z0_ts\n",
      "/Users/alanma/Documents/CFA_python/faircause/estimation/mediation_dml.py:155: RuntimeWarning: invalid value encountered in divide\n",
      "  y0[ts] = (Y.loc[ts].values - y_z0_ts) * (X.loc[ts] == 0).values / (1-px_z_ts) + y_z0_ts\n",
      "/Users/alanma/Documents/CFA_python/faircause/estimation/mediation_dml.py:155: RuntimeWarning: invalid value encountered in divide\n",
      "  y0[ts] = (Y.loc[ts].values - y_z0_ts) * (X.loc[ts] == 0).values / (1-px_z_ts) + y_z0_ts\n",
      "/Users/alanma/Documents/CFA_python/faircause/estimation/mediation_dml.py:156: RuntimeWarning: divide by zero encountered in divide\n",
      "  y1[ts] = (Y.loc[ts].values - y_z1_ts) * (X.loc[ts] == 1).values / (px_z_ts) + y_z1_ts\n",
      "/Users/alanma/Documents/CFA_python/faircause/estimation/mediation_dml.py:155: RuntimeWarning: invalid value encountered in divide\n",
      "  y0[ts] = (Y.loc[ts].values - y_z0_ts) * (X.loc[ts] == 0).values / (1-px_z_ts) + y_z0_ts\n",
      "/Users/alanma/Documents/CFA_python/faircause/estimation/mediation_dml.py:155: RuntimeWarning: divide by zero encountered in divide\n",
      "  y0[ts] = (Y.loc[ts].values - y_z0_ts) * (X.loc[ts] == 0).values / (1-px_z_ts) + y_z0_ts\n",
      "/Users/alanma/Documents/CFA_python/faircause/estimation/mediation_dml.py:155: RuntimeWarning: invalid value encountered in divide\n",
      "  y0[ts] = (Y.loc[ts].values - y_z0_ts) * (X.loc[ts] == 0).values / (1-px_z_ts) + y_z0_ts\n"
     ]
    },
    {
     "name": "stdout",
     "output_type": "stream",
     "text": [
      "4.93 percent of extreme P(x|z) or p(x|z,w) prob\n",
      " Reported results are for the overlap pop. Consider investigating overlap issues\n"
     ]
    },
    {
     "name": "stderr",
     "output_type": "stream",
     "text": [
      "/Users/alanma/Documents/CFA_python/faircause/estimation/mediation_dml.py:155: RuntimeWarning: invalid value encountered in divide\n",
      "  y0[ts] = (Y.loc[ts].values - y_z0_ts) * (X.loc[ts] == 0).values / (1-px_z_ts) + y_z0_ts\n",
      "/Users/alanma/Documents/CFA_python/faircause/estimation/mediation_dml.py:155: RuntimeWarning: invalid value encountered in divide\n",
      "  y0[ts] = (Y.loc[ts].values - y_z0_ts) * (X.loc[ts] == 0).values / (1-px_z_ts) + y_z0_ts\n",
      "/Users/alanma/Documents/CFA_python/faircause/estimation/mediation_dml.py:155: RuntimeWarning: invalid value encountered in divide\n",
      "  y0[ts] = (Y.loc[ts].values - y_z0_ts) * (X.loc[ts] == 0).values / (1-px_z_ts) + y_z0_ts\n",
      "/Users/alanma/Documents/CFA_python/faircause/estimation/mediation_dml.py:156: RuntimeWarning: divide by zero encountered in divide\n",
      "  y1[ts] = (Y.loc[ts].values - y_z1_ts) * (X.loc[ts] == 1).values / (px_z_ts) + y_z1_ts\n",
      "/Users/alanma/Documents/CFA_python/faircause/estimation/mediation_dml.py:155: RuntimeWarning: invalid value encountered in divide\n",
      "  y0[ts] = (Y.loc[ts].values - y_z0_ts) * (X.loc[ts] == 0).values / (1-px_z_ts) + y_z0_ts\n",
      "/Users/alanma/Documents/CFA_python/faircause/estimation/mediation_dml.py:155: RuntimeWarning: divide by zero encountered in divide\n",
      "  y0[ts] = (Y.loc[ts].values - y_z0_ts) * (X.loc[ts] == 0).values / (1-px_z_ts) + y_z0_ts\n",
      "/Users/alanma/Documents/CFA_python/faircause/estimation/mediation_dml.py:155: RuntimeWarning: invalid value encountered in divide\n",
      "  y0[ts] = (Y.loc[ts].values - y_z0_ts) * (X.loc[ts] == 0).values / (1-px_z_ts) + y_z0_ts\n"
     ]
    },
    {
     "name": "stdout",
     "output_type": "stream",
     "text": [
      "4.93 percent of extreme P(x|z) or p(x|z,w) prob\n",
      " Reported results are for the overlap pop. Consider investigating overlap issues\n"
     ]
    },
    {
     "name": "stderr",
     "output_type": "stream",
     "text": [
      "/Users/alanma/Documents/CFA_python/faircause/estimation/mediation_dml.py:155: RuntimeWarning: invalid value encountered in divide\n",
      "  y0[ts] = (Y.loc[ts].values - y_z0_ts) * (X.loc[ts] == 0).values / (1-px_z_ts) + y_z0_ts\n",
      "/Users/alanma/Documents/CFA_python/faircause/estimation/mediation_dml.py:155: RuntimeWarning: invalid value encountered in divide\n",
      "  y0[ts] = (Y.loc[ts].values - y_z0_ts) * (X.loc[ts] == 0).values / (1-px_z_ts) + y_z0_ts\n",
      "/Users/alanma/Documents/CFA_python/faircause/estimation/mediation_dml.py:155: RuntimeWarning: invalid value encountered in divide\n",
      "  y0[ts] = (Y.loc[ts].values - y_z0_ts) * (X.loc[ts] == 0).values / (1-px_z_ts) + y_z0_ts\n",
      "/Users/alanma/Documents/CFA_python/faircause/estimation/mediation_dml.py:156: RuntimeWarning: divide by zero encountered in divide\n",
      "  y1[ts] = (Y.loc[ts].values - y_z1_ts) * (X.loc[ts] == 1).values / (px_z_ts) + y_z1_ts\n",
      "/Users/alanma/Documents/CFA_python/faircause/estimation/mediation_dml.py:155: RuntimeWarning: invalid value encountered in divide\n",
      "  y0[ts] = (Y.loc[ts].values - y_z0_ts) * (X.loc[ts] == 0).values / (1-px_z_ts) + y_z0_ts\n",
      "/Users/alanma/Documents/CFA_python/faircause/estimation/mediation_dml.py:155: RuntimeWarning: divide by zero encountered in divide\n",
      "  y0[ts] = (Y.loc[ts].values - y_z0_ts) * (X.loc[ts] == 0).values / (1-px_z_ts) + y_z0_ts\n",
      "/Users/alanma/Documents/CFA_python/faircause/estimation/mediation_dml.py:155: RuntimeWarning: invalid value encountered in divide\n",
      "  y0[ts] = (Y.loc[ts].values - y_z0_ts) * (X.loc[ts] == 0).values / (1-px_z_ts) + y_z0_ts\n"
     ]
    },
    {
     "name": "stdout",
     "output_type": "stream",
     "text": [
      "4.93 percent of extreme P(x|z) or p(x|z,w) prob\n",
      " Reported results are for the overlap pop. Consider investigating overlap issues\n"
     ]
    },
    {
     "name": "stderr",
     "output_type": "stream",
     "text": [
      "/Users/alanma/Documents/CFA_python/faircause/estimation/mediation_dml.py:155: RuntimeWarning: invalid value encountered in divide\n",
      "  y0[ts] = (Y.loc[ts].values - y_z0_ts) * (X.loc[ts] == 0).values / (1-px_z_ts) + y_z0_ts\n",
      "/Users/alanma/Documents/CFA_python/faircause/estimation/mediation_dml.py:155: RuntimeWarning: invalid value encountered in divide\n",
      "  y0[ts] = (Y.loc[ts].values - y_z0_ts) * (X.loc[ts] == 0).values / (1-px_z_ts) + y_z0_ts\n",
      "/Users/alanma/Documents/CFA_python/faircause/estimation/mediation_dml.py:155: RuntimeWarning: invalid value encountered in divide\n",
      "  y0[ts] = (Y.loc[ts].values - y_z0_ts) * (X.loc[ts] == 0).values / (1-px_z_ts) + y_z0_ts\n",
      "/Users/alanma/Documents/CFA_python/faircause/estimation/mediation_dml.py:156: RuntimeWarning: divide by zero encountered in divide\n",
      "  y1[ts] = (Y.loc[ts].values - y_z1_ts) * (X.loc[ts] == 1).values / (px_z_ts) + y_z1_ts\n",
      "/Users/alanma/Documents/CFA_python/faircause/estimation/mediation_dml.py:155: RuntimeWarning: invalid value encountered in divide\n",
      "  y0[ts] = (Y.loc[ts].values - y_z0_ts) * (X.loc[ts] == 0).values / (1-px_z_ts) + y_z0_ts\n",
      "/Users/alanma/Documents/CFA_python/faircause/estimation/mediation_dml.py:155: RuntimeWarning: divide by zero encountered in divide\n",
      "  y0[ts] = (Y.loc[ts].values - y_z0_ts) * (X.loc[ts] == 0).values / (1-px_z_ts) + y_z0_ts\n",
      "/Users/alanma/Documents/CFA_python/faircause/estimation/mediation_dml.py:155: RuntimeWarning: invalid value encountered in divide\n",
      "  y0[ts] = (Y.loc[ts].values - y_z0_ts) * (X.loc[ts] == 0).values / (1-px_z_ts) + y_z0_ts\n"
     ]
    },
    {
     "name": "stdout",
     "output_type": "stream",
     "text": [
      "4.93 percent of extreme P(x|z) or p(x|z,w) prob\n",
      " Reported results are for the overlap pop. Consider investigating overlap issues\n"
     ]
    },
    {
     "name": "stderr",
     "output_type": "stream",
     "text": [
      "/Users/alanma/Documents/CFA_python/faircause/estimation/mediation_dml.py:155: RuntimeWarning: invalid value encountered in divide\n",
      "  y0[ts] = (Y.loc[ts].values - y_z0_ts) * (X.loc[ts] == 0).values / (1-px_z_ts) + y_z0_ts\n",
      "/Users/alanma/Documents/CFA_python/faircause/estimation/mediation_dml.py:155: RuntimeWarning: invalid value encountered in divide\n",
      "  y0[ts] = (Y.loc[ts].values - y_z0_ts) * (X.loc[ts] == 0).values / (1-px_z_ts) + y_z0_ts\n",
      "/Users/alanma/Documents/CFA_python/faircause/estimation/mediation_dml.py:155: RuntimeWarning: invalid value encountered in divide\n",
      "  y0[ts] = (Y.loc[ts].values - y_z0_ts) * (X.loc[ts] == 0).values / (1-px_z_ts) + y_z0_ts\n",
      "/Users/alanma/Documents/CFA_python/faircause/estimation/mediation_dml.py:156: RuntimeWarning: divide by zero encountered in divide\n",
      "  y1[ts] = (Y.loc[ts].values - y_z1_ts) * (X.loc[ts] == 1).values / (px_z_ts) + y_z1_ts\n",
      "/Users/alanma/Documents/CFA_python/faircause/estimation/mediation_dml.py:155: RuntimeWarning: invalid value encountered in divide\n",
      "  y0[ts] = (Y.loc[ts].values - y_z0_ts) * (X.loc[ts] == 0).values / (1-px_z_ts) + y_z0_ts\n",
      "/Users/alanma/Documents/CFA_python/faircause/estimation/mediation_dml.py:155: RuntimeWarning: divide by zero encountered in divide\n",
      "  y0[ts] = (Y.loc[ts].values - y_z0_ts) * (X.loc[ts] == 0).values / (1-px_z_ts) + y_z0_ts\n",
      "/Users/alanma/Documents/CFA_python/faircause/estimation/mediation_dml.py:155: RuntimeWarning: invalid value encountered in divide\n",
      "  y0[ts] = (Y.loc[ts].values - y_z0_ts) * (X.loc[ts] == 0).values / (1-px_z_ts) + y_z0_ts\n"
     ]
    },
    {
     "name": "stdout",
     "output_type": "stream",
     "text": [
      "4.93 percent of extreme P(x|z) or p(x|z,w) prob\n",
      " Reported results are for the overlap pop. Consider investigating overlap issues\n"
     ]
    },
    {
     "name": "stderr",
     "output_type": "stream",
     "text": [
      "/Users/alanma/Documents/CFA_python/faircause/estimation/mediation_dml.py:155: RuntimeWarning: invalid value encountered in divide\n",
      "  y0[ts] = (Y.loc[ts].values - y_z0_ts) * (X.loc[ts] == 0).values / (1-px_z_ts) + y_z0_ts\n",
      "/Users/alanma/Documents/CFA_python/faircause/estimation/mediation_dml.py:155: RuntimeWarning: invalid value encountered in divide\n",
      "  y0[ts] = (Y.loc[ts].values - y_z0_ts) * (X.loc[ts] == 0).values / (1-px_z_ts) + y_z0_ts\n",
      "/Users/alanma/Documents/CFA_python/faircause/estimation/mediation_dml.py:155: RuntimeWarning: invalid value encountered in divide\n",
      "  y0[ts] = (Y.loc[ts].values - y_z0_ts) * (X.loc[ts] == 0).values / (1-px_z_ts) + y_z0_ts\n",
      "/Users/alanma/Documents/CFA_python/faircause/estimation/mediation_dml.py:156: RuntimeWarning: divide by zero encountered in divide\n",
      "  y1[ts] = (Y.loc[ts].values - y_z1_ts) * (X.loc[ts] == 1).values / (px_z_ts) + y_z1_ts\n",
      "/Users/alanma/Documents/CFA_python/faircause/estimation/mediation_dml.py:155: RuntimeWarning: invalid value encountered in divide\n",
      "  y0[ts] = (Y.loc[ts].values - y_z0_ts) * (X.loc[ts] == 0).values / (1-px_z_ts) + y_z0_ts\n",
      "/Users/alanma/Documents/CFA_python/faircause/estimation/mediation_dml.py:155: RuntimeWarning: divide by zero encountered in divide\n",
      "  y0[ts] = (Y.loc[ts].values - y_z0_ts) * (X.loc[ts] == 0).values / (1-px_z_ts) + y_z0_ts\n",
      "/Users/alanma/Documents/CFA_python/faircause/estimation/mediation_dml.py:155: RuntimeWarning: invalid value encountered in divide\n",
      "  y0[ts] = (Y.loc[ts].values - y_z0_ts) * (X.loc[ts] == 0).values / (1-px_z_ts) + y_z0_ts\n"
     ]
    },
    {
     "name": "stdout",
     "output_type": "stream",
     "text": [
      "4.93 percent of extreme P(x|z) or p(x|z,w) prob\n",
      " Reported results are for the overlap pop. Consider investigating overlap issues\n"
     ]
    }
   ],
   "source": [
    "fair_pred.train()"
   ]
  },
  {
   "cell_type": "code",
   "execution_count": null,
   "metadata": {},
   "outputs": [],
   "source": []
  }
 ],
 "metadata": {
  "kernelspec": {
   "display_name": "cfa",
   "language": "python",
   "name": "python3"
  },
  "language_info": {
   "codemirror_mode": {
    "name": "ipython",
    "version": 3
   },
   "file_extension": ".py",
   "mimetype": "text/x-python",
   "name": "python",
   "nbconvert_exporter": "python",
   "pygments_lexer": "ipython3",
   "version": "3.13.3"
  }
 },
 "nbformat": 4,
 "nbformat_minor": 2
}
