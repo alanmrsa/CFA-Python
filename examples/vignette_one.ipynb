{
 "cells": [
  {
   "cell_type": "markdown",
   "metadata": {},
   "source": [
    "## Census Dataset Analysis"
   ]
  },
  {
   "cell_type": "markdown",
   "metadata": {},
   "source": [
    "The United States Census of 2018 collected broad information about the US Government employees, including demographic information $Z$, ($Z_1$ for age, $Z_2$ for race, $Z_3$ for nationality), gender $X$, ($x_0$ female, $x_1$ male), marital and family status $M$, education info $L$, and work info $R$"
   ]
  },
  {
   "cell_type": "markdown",
   "metadata": {},
   "source": [
    "### loading in modules"
   ]
  },
  {
   "cell_type": "code",
   "execution_count": 1,
   "metadata": {},
   "outputs": [],
   "source": [
    "import numpy as np\n",
    "import pandas as pd\n",
    "import matplotlib.pyplot as plt\n",
    "import seaborn as sns\n",
    "import rpy2.robjects as robjects\n",
    "import rpy2.robjects.pandas2ri as pandas2ri\n",
    "from rpy2.robjects.conversion import localconverter\n",
    "from rpy2.robjects.packages import importr, isinstalled\n",
    "import rpy2.robjects.packages as rpackages\n",
    "from rpy2.robjects import r\n",
    "import sys\n",
    "\n",
    "import sys\n",
    "sys.path.insert(0, '/Users/alanma/Documents/CFA_python')\n",
    "import faircause.faircause as faircause\n"
   ]
  },
  {
   "cell_type": "code",
   "execution_count": 2,
   "metadata": {},
   "outputs": [
    {
     "name": "stdout",
     "output_type": "stream",
     "text": [
      "Is faircause installed now? True\n"
     ]
    }
   ],
   "source": [
    "# Ensure faircause is installed (either using conda or R)\n",
    "\n",
    "print(\"Is faircause installed now?\", isinstalled('faircause'))\n"
   ]
  },
  {
   "cell_type": "markdown",
   "metadata": {},
   "source": [
    "### loading in dataset"
   ]
  },
  {
   "cell_type": "code",
   "execution_count": 3,
   "metadata": {},
   "outputs": [
    {
     "name": "stdout",
     "output_type": "stream",
     "text": [
      "\n",
      "    WARNING: The R package \"reticulate\" only fixed recently\n",
      "    an issue that caused a segfault when used with rpy2:\n",
      "    https://github.com/rstudio/reticulate/pull/1188\n",
      "    Make sure that you use a version of that package that includes\n",
      "    the fix.\n",
      "    "
     ]
    }
   ],
   "source": [
    "# import\n",
    "base = importr('base')\n",
    "faircause = importr('faircause')\n",
    "\n",
    "# Load census dataset\n",
    "data = robjects.r('''\n",
    "    data(\"gov_census\", package = \"faircause\")\n",
    "    gov_census[seq_len(20000), ]  # Take first 20000 rows as in the vignette\n",
    "''')\n",
    "\n",
    "# Rename columns to match the vignette\n",
    "data.columns = ['sex', 'age', 'race', 'hispanic_origin', 'citizenship', 'nativity',\n",
    "                'marital', 'family_size', 'children', 'education_level', 'english_level',\n",
    "                'salary', 'hours_worked', 'weeks_worked', 'occupation', 'industry',\n",
    "                'economic_region']\n",
    "\n",
    "# Convert to pd\n",
    "with localconverter(robjects.default_converter + pandas2ri.converter):\n",
    "  data = robjects.conversion.rpy2py(data)\n",
    "data.reset_index(drop=True, inplace=True)"
   ]
  },
  {
   "cell_type": "code",
   "execution_count": 4,
   "metadata": {},
   "outputs": [
    {
     "data": {
      "text/html": [
       "<div>\n",
       "<style scoped>\n",
       "    .dataframe tbody tr th:only-of-type {\n",
       "        vertical-align: middle;\n",
       "    }\n",
       "\n",
       "    .dataframe tbody tr th {\n",
       "        vertical-align: top;\n",
       "    }\n",
       "\n",
       "    .dataframe thead th {\n",
       "        text-align: right;\n",
       "    }\n",
       "</style>\n",
       "<table border=\"1\" class=\"dataframe\">\n",
       "  <thead>\n",
       "    <tr style=\"text-align: right;\">\n",
       "      <th></th>\n",
       "      <th>sex</th>\n",
       "      <th>age</th>\n",
       "      <th>race</th>\n",
       "      <th>hispanic_origin</th>\n",
       "      <th>citizenship</th>\n",
       "      <th>nativity</th>\n",
       "      <th>marital</th>\n",
       "      <th>family_size</th>\n",
       "      <th>children</th>\n",
       "      <th>education_level</th>\n",
       "      <th>english_level</th>\n",
       "      <th>salary</th>\n",
       "      <th>hours_worked</th>\n",
       "      <th>weeks_worked</th>\n",
       "      <th>occupation</th>\n",
       "      <th>industry</th>\n",
       "      <th>economic_region</th>\n",
       "    </tr>\n",
       "  </thead>\n",
       "  <tbody>\n",
       "    <tr>\n",
       "      <th>0</th>\n",
       "      <td>male</td>\n",
       "      <td>64.0</td>\n",
       "      <td>black</td>\n",
       "      <td>no</td>\n",
       "      <td>1.0</td>\n",
       "      <td>native</td>\n",
       "      <td>married</td>\n",
       "      <td>2.0</td>\n",
       "      <td>0.0</td>\n",
       "      <td>20.0</td>\n",
       "      <td>0.0</td>\n",
       "      <td>43000.0</td>\n",
       "      <td>56.0</td>\n",
       "      <td>49.0</td>\n",
       "      <td>13-1081</td>\n",
       "      <td>928P</td>\n",
       "      <td>Southeast</td>\n",
       "    </tr>\n",
       "    <tr>\n",
       "      <th>1</th>\n",
       "      <td>female</td>\n",
       "      <td>54.0</td>\n",
       "      <td>white</td>\n",
       "      <td>no</td>\n",
       "      <td>1.0</td>\n",
       "      <td>native</td>\n",
       "      <td>married</td>\n",
       "      <td>3.0</td>\n",
       "      <td>1.0</td>\n",
       "      <td>20.0</td>\n",
       "      <td>0.0</td>\n",
       "      <td>45000.0</td>\n",
       "      <td>42.0</td>\n",
       "      <td>49.0</td>\n",
       "      <td>29-2061</td>\n",
       "      <td>6231</td>\n",
       "      <td>Southeast</td>\n",
       "    </tr>\n",
       "    <tr>\n",
       "      <th>2</th>\n",
       "      <td>male</td>\n",
       "      <td>38.0</td>\n",
       "      <td>black</td>\n",
       "      <td>no</td>\n",
       "      <td>1.0</td>\n",
       "      <td>native</td>\n",
       "      <td>married</td>\n",
       "      <td>3.0</td>\n",
       "      <td>1.0</td>\n",
       "      <td>24.0</td>\n",
       "      <td>0.0</td>\n",
       "      <td>99000.0</td>\n",
       "      <td>50.0</td>\n",
       "      <td>49.0</td>\n",
       "      <td>25-1000</td>\n",
       "      <td>611M1</td>\n",
       "      <td>Southeast</td>\n",
       "    </tr>\n",
       "    <tr>\n",
       "      <th>3</th>\n",
       "      <td>female</td>\n",
       "      <td>41.0</td>\n",
       "      <td>asian</td>\n",
       "      <td>no</td>\n",
       "      <td>1.0</td>\n",
       "      <td>native</td>\n",
       "      <td>married</td>\n",
       "      <td>3.0</td>\n",
       "      <td>1.0</td>\n",
       "      <td>24.0</td>\n",
       "      <td>0.0</td>\n",
       "      <td>63000.0</td>\n",
       "      <td>50.0</td>\n",
       "      <td>49.0</td>\n",
       "      <td>25-1000</td>\n",
       "      <td>611M1</td>\n",
       "      <td>Southeast</td>\n",
       "    </tr>\n",
       "    <tr>\n",
       "      <th>4</th>\n",
       "      <td>female</td>\n",
       "      <td>40.0</td>\n",
       "      <td>white</td>\n",
       "      <td>no</td>\n",
       "      <td>1.0</td>\n",
       "      <td>native</td>\n",
       "      <td>married</td>\n",
       "      <td>4.0</td>\n",
       "      <td>2.0</td>\n",
       "      <td>21.0</td>\n",
       "      <td>0.0</td>\n",
       "      <td>45200.0</td>\n",
       "      <td>40.0</td>\n",
       "      <td>49.0</td>\n",
       "      <td>27-1010</td>\n",
       "      <td>611M1</td>\n",
       "      <td>Southeast</td>\n",
       "    </tr>\n",
       "  </tbody>\n",
       "</table>\n",
       "</div>"
      ],
      "text/plain": [
       "      sex   age   race hispanic_origin  citizenship nativity  marital  \\\n",
       "0    male  64.0  black              no          1.0   native  married   \n",
       "1  female  54.0  white              no          1.0   native  married   \n",
       "2    male  38.0  black              no          1.0   native  married   \n",
       "3  female  41.0  asian              no          1.0   native  married   \n",
       "4  female  40.0  white              no          1.0   native  married   \n",
       "\n",
       "   family_size  children  education_level  english_level   salary  \\\n",
       "0          2.0       0.0             20.0            0.0  43000.0   \n",
       "1          3.0       1.0             20.0            0.0  45000.0   \n",
       "2          3.0       1.0             24.0            0.0  99000.0   \n",
       "3          3.0       1.0             24.0            0.0  63000.0   \n",
       "4          4.0       2.0             21.0            0.0  45200.0   \n",
       "\n",
       "   hours_worked  weeks_worked occupation industry economic_region  \n",
       "0          56.0          49.0    13-1081     928P       Southeast  \n",
       "1          42.0          49.0    29-2061     6231       Southeast  \n",
       "2          50.0          49.0    25-1000    611M1       Southeast  \n",
       "3          50.0          49.0    25-1000    611M1       Southeast  \n",
       "4          40.0          49.0    27-1010    611M1       Southeast  "
      ]
     },
     "execution_count": 4,
     "metadata": {},
     "output_type": "execute_result"
    }
   ],
   "source": [
    "data.head()"
   ]
  },
  {
   "cell_type": "code",
   "execution_count": 5,
   "metadata": {},
   "outputs": [],
   "source": [
    "# placing columns\n",
    "X = \"sex\"\n",
    "W = [\"marital\", \"family_size\", \"children\", \"education_level\",\n",
    "    \"english_level\", \"hours_worked\", \"weeks_worked\", \"occupation\",\n",
    "    \"industry\"]\n",
    "Z = [\"age\", \"race\", \"hispanic_origin\", \"citizenship\", \"nativity\",\n",
    "    \"economic_region\"]\n",
    "Y = \"salary\"\n",
    "x0 = \"male\"\n",
    "x1 = \"female\"\n"
   ]
  },
  {
   "cell_type": "markdown",
   "metadata": {},
   "source": [
    "### Prelims"
   ]
  },
  {
   "cell_type": "markdown",
   "metadata": {},
   "source": [
    "A data scientist loads the data and performs the following initial analysis:"
   ]
  },
  {
   "cell_type": "code",
   "execution_count": 6,
   "metadata": {},
   "outputs": [
    {
     "data": {
      "text/plain": [
       "np.float64(-15053.691747379096)"
      ]
     },
     "execution_count": 6,
     "metadata": {},
     "output_type": "execute_result"
    }
   ],
   "source": [
    "np.mean(data[Y][data[X] == x1]) - np.mean(data[Y][data[X] == x0])"
   ]
  },
  {
   "cell_type": "markdown",
   "metadata": {},
   "source": [
    "Therefore, the data scientist observed that male employees on average earn $15000/year more than female employees, that is\n",
    "$$E[y-x_1] - E[y - x_0] = 15054$$\n"
   ]
  },
  {
   "cell_type": "markdown",
   "metadata": {},
   "source": [
    "### CFA"
   ]
  },
  {
   "cell_type": "markdown",
   "metadata": {},
   "source": [
    "Following the Fairness Cookbook, the data scientist does the following:\n",
    "\n",
    "SFM projection: the SFM projection of the causal diagram \n",
    "$G$ of this dataset is given by\n",
    "$$\\Pi_{SFM} (G) = \\langle X = \\{X\\}, Z = \\{Z_1, Z_2, Z_3\\}, W = \\{M, L, R\\}, Y = \\{Y\\}\\rangle$$\n",
    "She then inputs this SFM projection into the faircause Python package,\n",
    "\n"
   ]
  },
  {
   "cell_type": "code",
   "execution_count": 7,
   "metadata": {},
   "outputs": [],
   "source": [
    "import faircause.faircause as faircause\n",
    "\n",
    "fc_census = faircause.FairCause(data, X, Z, W, Y, x0, x1, method='debiasing')"
   ]
  },
  {
   "cell_type": "code",
   "execution_count": 8,
   "metadata": {},
   "outputs": [
    {
     "name": "stdout",
     "output_type": "stream",
     "text": [
      "faircause object:\n",
      "\n",
      "Attribute:       sex\n",
      "Outcome:         salary\n",
      "Confounders:     marital, family_size, children, education_level, english_level, hours_worked, weeks_worked, occupation, industry\n",
      "Mediators:       age, race, hispanic_origin, citizenship, nativity, economic_region\n"
     ]
    }
   ],
   "source": [
    "print(fc_census)"
   ]
  },
  {
   "cell_type": "code",
   "execution_count": 9,
   "metadata": {},
   "outputs": [
    {
     "name": "stdout",
     "output_type": "stream",
     "text": [
      "Training until validation scores don't improve for 10 rounds\n",
      "Early stopping, best iteration is:\n",
      "[10]\tvalid's binary_logloss: 0.685863 + 0.00343191\n",
      "Training until validation scores don't improve for 10 rounds\n",
      "Early stopping, best iteration is:\n",
      "[29]\tvalid's rmse: 41635.4 + 2723.71\n",
      "Training until validation scores don't improve for 10 rounds\n",
      "Early stopping, best iteration is:\n",
      "[74]\tvalid's binary_logloss: 0.515804 + 0.00661485\n",
      "Training until validation scores don't improve for 10 rounds\n",
      "Early stopping, best iteration is:\n",
      "[80]\tvalid's rmse: 32871.2 + 2879.3\n",
      "Training until validation scores don't improve for 10 rounds\n",
      "Early stopping, best iteration is:\n",
      "[24]\tvalid's rmse: 24104 + 1863.59\n",
      "Training until validation scores don't improve for 10 rounds\n",
      "Early stopping, best iteration is:\n",
      "[32]\tvalid's rmse: 26062.4 + 1665.55\n",
      "Training until validation scores don't improve for 10 rounds\n",
      "Early stopping, best iteration is:\n",
      "[11]\tvalid's binary_logloss: 0.686315 + 0.0038006\n",
      "Training until validation scores don't improve for 10 rounds\n",
      "Early stopping, best iteration is:\n",
      "[32]\tvalid's rmse: 41921.9 + 1658.55\n",
      "Training until validation scores don't improve for 10 rounds\n",
      "Early stopping, best iteration is:\n",
      "[66]\tvalid's binary_logloss: 0.516105 + 0.0110039\n",
      "Training until validation scores don't improve for 10 rounds\n",
      "Early stopping, best iteration is:\n",
      "[73]\tvalid's rmse: 33127.9 + 2111.31\n",
      "Training until validation scores don't improve for 10 rounds\n",
      "Early stopping, best iteration is:\n",
      "[32]\tvalid's rmse: 24566.2 + 1767.59\n",
      "Training until validation scores don't improve for 10 rounds\n",
      "Early stopping, best iteration is:\n",
      "[33]\tvalid's rmse: 26852.5 + 1828.58\n",
      "Training until validation scores don't improve for 10 rounds\n",
      "Early stopping, best iteration is:\n",
      "[10]\tvalid's binary_logloss: 0.68596 + 0.00130014\n",
      "Training until validation scores don't improve for 10 rounds\n",
      "Early stopping, best iteration is:\n",
      "[25]\tvalid's rmse: 42438.7 + 1400.06\n",
      "Training until validation scores don't improve for 10 rounds\n",
      "Early stopping, best iteration is:\n",
      "[103]\tvalid's binary_logloss: 0.518552 + 0.00937003\n",
      "Training until validation scores don't improve for 10 rounds\n",
      "Early stopping, best iteration is:\n",
      "[94]\tvalid's rmse: 32526.5 + 1480.59\n",
      "Training until validation scores don't improve for 10 rounds\n",
      "Early stopping, best iteration is:\n",
      "[28]\tvalid's rmse: 25149.8 + 2437.95\n",
      "Training until validation scores don't improve for 10 rounds\n",
      "Early stopping, best iteration is:\n",
      "[25]\tvalid's rmse: 26792.3 + 2342.28\n",
      "Training until validation scores don't improve for 10 rounds\n",
      "Early stopping, best iteration is:\n",
      "[11]\tvalid's binary_logloss: 0.685929 + 0.00173618\n",
      "Training until validation scores don't improve for 10 rounds\n",
      "Early stopping, best iteration is:\n",
      "[33]\tvalid's rmse: 41553.6 + 1972.38\n",
      "Training until validation scores don't improve for 10 rounds\n",
      "Early stopping, best iteration is:\n",
      "[64]\tvalid's binary_logloss: 0.518722 + 0.01213\n",
      "Training until validation scores don't improve for 10 rounds\n",
      "Early stopping, best iteration is:\n",
      "[106]\tvalid's rmse: 32838.6 + 1444.22\n",
      "Training until validation scores don't improve for 10 rounds\n",
      "Early stopping, best iteration is:\n",
      "[27]\tvalid's rmse: 25339.4 + 1071.24\n",
      "Training until validation scores don't improve for 10 rounds\n",
      "Early stopping, best iteration is:\n",
      "[26]\tvalid's rmse: 27266.7 + 1039.87\n",
      "Training until validation scores don't improve for 10 rounds\n",
      "Early stopping, best iteration is:\n",
      "[11]\tvalid's binary_logloss: 0.686166 + 0.00216087\n",
      "Training until validation scores don't improve for 10 rounds\n",
      "Early stopping, best iteration is:\n",
      "[29]\tvalid's rmse: 40944.7 + 2374.57\n",
      "Training until validation scores don't improve for 10 rounds\n",
      "Early stopping, best iteration is:\n",
      "[95]\tvalid's binary_logloss: 0.510706 + 0.00981047\n",
      "Training until validation scores don't improve for 10 rounds\n",
      "Early stopping, best iteration is:\n",
      "[111]\tvalid's rmse: 32233.2 + 1836.85\n",
      "Training until validation scores don't improve for 10 rounds\n",
      "Early stopping, best iteration is:\n",
      "[30]\tvalid's rmse: 24549.8 + 1842.98\n",
      "Training until validation scores don't improve for 10 rounds\n",
      "Early stopping, best iteration is:\n",
      "[35]\tvalid's rmse: 27716 + 2326.87\n",
      "Training until validation scores don't improve for 10 rounds\n",
      "Early stopping, best iteration is:\n",
      "[9]\tvalid's binary_logloss: 0.68589 + 0.00161838\n",
      "Training until validation scores don't improve for 10 rounds\n",
      "Early stopping, best iteration is:\n",
      "[31]\tvalid's rmse: 42487.4 + 2947.07\n",
      "Training until validation scores don't improve for 10 rounds\n",
      "Early stopping, best iteration is:\n",
      "[79]\tvalid's binary_logloss: 0.515876 + 0.007361\n",
      "Training until validation scores don't improve for 10 rounds\n",
      "Early stopping, best iteration is:\n",
      "[111]\tvalid's rmse: 32747.9 + 2507.46\n",
      "Training until validation scores don't improve for 10 rounds\n",
      "Early stopping, best iteration is:\n",
      "[32]\tvalid's rmse: 26912.3 + 1797.44\n",
      "Training until validation scores don't improve for 10 rounds\n",
      "Early stopping, best iteration is:\n",
      "[36]\tvalid's rmse: 28424.5 + 1980.6\n",
      "Training until validation scores don't improve for 10 rounds\n",
      "Early stopping, best iteration is:\n",
      "[13]\tvalid's binary_logloss: 0.68596 + 0.00138301\n",
      "Training until validation scores don't improve for 10 rounds\n",
      "Early stopping, best iteration is:\n",
      "[35]\tvalid's rmse: 40931.9 + 1852.24\n",
      "Training until validation scores don't improve for 10 rounds\n",
      "Early stopping, best iteration is:\n",
      "[107]\tvalid's binary_logloss: 0.511245 + 0.0105872\n",
      "Training until validation scores don't improve for 10 rounds\n",
      "Early stopping, best iteration is:\n",
      "[82]\tvalid's rmse: 31815.3 + 1768.18\n",
      "Training until validation scores don't improve for 10 rounds\n",
      "Early stopping, best iteration is:\n",
      "[27]\tvalid's rmse: 24394.4 + 704.703\n",
      "Training until validation scores don't improve for 10 rounds\n",
      "Early stopping, best iteration is:\n",
      "[34]\tvalid's rmse: 26169.8 + 820.124\n",
      "Training until validation scores don't improve for 10 rounds\n",
      "Early stopping, best iteration is:\n",
      "[14]\tvalid's binary_logloss: 0.685869 + 0.00233916\n",
      "Training until validation scores don't improve for 10 rounds\n",
      "Early stopping, best iteration is:\n",
      "[30]\tvalid's rmse: 40632.5 + 1720.16\n",
      "Training until validation scores don't improve for 10 rounds\n",
      "Early stopping, best iteration is:\n",
      "[89]\tvalid's binary_logloss: 0.509556 + 0.00720667\n",
      "Training until validation scores don't improve for 10 rounds\n",
      "Early stopping, best iteration is:\n",
      "[92]\tvalid's rmse: 32778.6 + 1659.82\n",
      "Training until validation scores don't improve for 10 rounds\n",
      "Early stopping, best iteration is:\n",
      "[30]\tvalid's rmse: 24327.4 + 1296.52\n",
      "Training until validation scores don't improve for 10 rounds\n",
      "Early stopping, best iteration is:\n",
      "[31]\tvalid's rmse: 28021.6 + 1547.87\n",
      "Training until validation scores don't improve for 10 rounds\n",
      "Early stopping, best iteration is:\n",
      "[14]\tvalid's binary_logloss: 0.684751 + 0.00192232\n",
      "Training until validation scores don't improve for 10 rounds\n",
      "Early stopping, best iteration is:\n",
      "[34]\tvalid's rmse: 41096.8 + 3124.06\n",
      "Training until validation scores don't improve for 10 rounds\n",
      "Early stopping, best iteration is:\n",
      "[116]\tvalid's binary_logloss: 0.51337 + 0.00547283\n",
      "Training until validation scores don't improve for 10 rounds\n",
      "Early stopping, best iteration is:\n",
      "[102]\tvalid's rmse: 32527.2 + 2554.67\n",
      "Training until validation scores don't improve for 10 rounds\n",
      "Early stopping, best iteration is:\n",
      "[35]\tvalid's rmse: 24954.1 + 1604.99\n",
      "Training until validation scores don't improve for 10 rounds\n",
      "Early stopping, best iteration is:\n",
      "[31]\tvalid's rmse: 27303.8 + 2003.73\n",
      "Training until validation scores don't improve for 10 rounds\n",
      "Early stopping, best iteration is:\n",
      "[18]\tvalid's binary_logloss: 0.685612 + 0.00159084\n",
      "Training until validation scores don't improve for 10 rounds\n",
      "Early stopping, best iteration is:\n",
      "[30]\tvalid's rmse: 42109.5 + 2337.15\n",
      "Training until validation scores don't improve for 10 rounds\n",
      "Early stopping, best iteration is:\n",
      "[79]\tvalid's binary_logloss: 0.511737 + 0.00997555\n",
      "Training until validation scores don't improve for 10 rounds\n",
      "Early stopping, best iteration is:\n",
      "[89]\tvalid's rmse: 33014.3 + 1116.52\n",
      "Training until validation scores don't improve for 10 rounds\n",
      "Early stopping, best iteration is:\n",
      "[25]\tvalid's rmse: 25976.5 + 653.612\n",
      "Training until validation scores don't improve for 10 rounds\n",
      "Early stopping, best iteration is:\n",
      "[27]\tvalid's rmse: 28871.5 + 900.983\n",
      "  measure         value           sd       scale\n",
      "0      tv -15053.691747  1050.799189  difference\n",
      "1   ctfde  -7774.158675   762.297314  difference\n",
      "2   ctfie   8588.699927   668.569644  difference\n",
      "3   ctfse  -1309.166855   733.564698  difference\n",
      "4     ett -16362.858602   610.483729  difference\n"
     ]
    }
   ],
   "source": [
    "fc_census.estimate_effects()"
   ]
  },
  {
   "cell_type": "code",
   "execution_count": 14,
   "metadata": {},
   "outputs": [
    {
     "name": "stdout",
     "output_type": "stream",
     "text": [
      "faircause object summary:\n",
      "\n",
      "Protected attribute:                 sex\n",
      "Protected attribute levels:          male, female\n",
      "Total Variation (TV): -15053.6917\n",
      "\n",
      "TV decomposition(s):\n",
      "\n",
      "TV_malefemale(y) (-15053.6917) = CtfDE_malefemale(y | male) (-7774.1587) - CtfIE_femalemale(y | male) (8588.6999) - CtfSE_femalemale(y) (-1309.1669)\n"
     ]
    },
    {
     "data": {
      "text/html": [
       "<div>\n",
       "<style scoped>\n",
       "    .dataframe tbody tr th:only-of-type {\n",
       "        vertical-align: middle;\n",
       "    }\n",
       "\n",
       "    .dataframe tbody tr th {\n",
       "        vertical-align: top;\n",
       "    }\n",
       "\n",
       "    .dataframe thead th {\n",
       "        text-align: right;\n",
       "    }\n",
       "</style>\n",
       "<table border=\"1\" class=\"dataframe\">\n",
       "  <thead>\n",
       "    <tr style=\"text-align: right;\">\n",
       "      <th></th>\n",
       "      <th>measure</th>\n",
       "      <th>value</th>\n",
       "      <th>sd</th>\n",
       "    </tr>\n",
       "  </thead>\n",
       "  <tbody>\n",
       "    <tr>\n",
       "      <th>0</th>\n",
       "      <td>tv</td>\n",
       "      <td>-15053.691747</td>\n",
       "      <td>1050.799189</td>\n",
       "    </tr>\n",
       "    <tr>\n",
       "      <th>1</th>\n",
       "      <td>ctfde</td>\n",
       "      <td>-7774.158675</td>\n",
       "      <td>762.297314</td>\n",
       "    </tr>\n",
       "    <tr>\n",
       "      <th>2</th>\n",
       "      <td>ctfie</td>\n",
       "      <td>8588.699927</td>\n",
       "      <td>668.569644</td>\n",
       "    </tr>\n",
       "    <tr>\n",
       "      <th>3</th>\n",
       "      <td>ctfse</td>\n",
       "      <td>-1309.166855</td>\n",
       "      <td>733.564698</td>\n",
       "    </tr>\n",
       "    <tr>\n",
       "      <th>4</th>\n",
       "      <td>ett</td>\n",
       "      <td>-16362.858602</td>\n",
       "      <td>610.483729</td>\n",
       "    </tr>\n",
       "  </tbody>\n",
       "</table>\n",
       "</div>"
      ],
      "text/plain": [
       "  measure         value           sd\n",
       "0      tv -15053.691747  1050.799189\n",
       "1   ctfde  -7774.158675   762.297314\n",
       "2   ctfie   8588.699927   668.569644\n",
       "3   ctfse  -1309.166855   733.564698\n",
       "4     ett -16362.858602   610.483729"
      ]
     },
     "execution_count": 14,
     "metadata": {},
     "output_type": "execute_result"
    }
   ],
   "source": [
    "fc_census.summary()"
   ]
  },
  {
   "cell_type": "code",
   "execution_count": 15,
   "metadata": {},
   "outputs": [
    {
     "name": "stderr",
     "output_type": "stream",
     "text": [
      "/Users/alanma/Documents/CFA_python/faircause/utils/generics.py:106: FutureWarning: \n",
      "\n",
      "Passing `palette` without assigning `hue` is deprecated and will be removed in v0.14.0. Assign the `x` variable to `hue` and set `legend=False` for the same effect.\n",
      "\n",
      "  ax = sns.barplot(x='Measure', y='Value', data=df, palette='Set2')\n",
      "/Users/alanma/Documents/CFA_python/faircause/utils/generics.py:119: UserWarning: set_ticklabels() should only be used with a fixed number of ticks, i.e. after set_ticks() or using a FixedLocator.\n",
      "  ax.set_xticklabels([rename.get(m, m) for m in df['Measure']], rotation=45, ha='right')\n"
     ]
    },
    {
     "data": {
      "image/png": "[encoded data removed]",
      "text/plain": [
       "<Figure size 1200x800 with 1 Axes>"
      ]
     },
     "metadata": {},
     "output_type": "display_data"
    }
   ],
   "source": [
    "plot = fc_census.plot()\n"
   ]
  },
  {
   "cell_type": "markdown",
   "metadata": {},
   "source": [
    "Using these results, she considers the following: \n",
    "\n",
    "\\textbf{Disparate treatment:} when considering disparate treatment, she computes $x\\text{-DE}_{x_0, x_1}(y | x_0)$ and its 95% CI to be\n",
    "$$x\\text{-DE}_{x_0, x_1}(y|x_0)= \t-9920.48 \\pm 1461.94$$\n",
    "The hypothesis $H_0^{(x\\text{-DE})}$ is thus rejected, providing evidence of disparate treatment"
   ]
  },
  {
   "cell_type": "code",
   "execution_count": 12,
   "metadata": {},
   "outputs": [
    {
     "name": "stdout",
     "output_type": "stream",
     "text": [
      "faircause object summary:\n",
      "\n",
      "Protected attribute:                 sex\n",
      "Protected attribute levels:          male, female\n",
      "Total Variation (TV): -15053.6917\n",
      "\n",
      "TV decomposition(s):\n",
      "\n",
      "TV_malefemale(y) (-15053.6917) = CtfDE_malefemale(y | male) (-7774.1587) - CtfIE_femalemale(y | male) (8588.6999) - CtfSE_femalemale(y) (-1309.1669)\n"
     ]
    },
    {
     "data": {
      "text/html": [
       "<div>\n",
       "<style scoped>\n",
       "    .dataframe tbody tr th:only-of-type {\n",
       "        vertical-align: middle;\n",
       "    }\n",
       "\n",
       "    .dataframe tbody tr th {\n",
       "        vertical-align: top;\n",
       "    }\n",
       "\n",
       "    .dataframe thead th {\n",
       "        text-align: right;\n",
       "    }\n",
       "</style>\n",
       "<table border=\"1\" class=\"dataframe\">\n",
       "  <thead>\n",
       "    <tr style=\"text-align: right;\">\n",
       "      <th></th>\n",
       "      <th>measure</th>\n",
       "      <th>value</th>\n",
       "      <th>sd</th>\n",
       "    </tr>\n",
       "  </thead>\n",
       "  <tbody>\n",
       "    <tr>\n",
       "      <th>0</th>\n",
       "      <td>tv</td>\n",
       "      <td>-15053.691747</td>\n",
       "      <td>1050.799189</td>\n",
       "    </tr>\n",
       "    <tr>\n",
       "      <th>1</th>\n",
       "      <td>ctfde</td>\n",
       "      <td>-7774.158675</td>\n",
       "      <td>762.297314</td>\n",
       "    </tr>\n",
       "    <tr>\n",
       "      <th>2</th>\n",
       "      <td>ctfie</td>\n",
       "      <td>8588.699927</td>\n",
       "      <td>668.569644</td>\n",
       "    </tr>\n",
       "    <tr>\n",
       "      <th>3</th>\n",
       "      <td>ctfse</td>\n",
       "      <td>-1309.166855</td>\n",
       "      <td>733.564698</td>\n",
       "    </tr>\n",
       "    <tr>\n",
       "      <th>4</th>\n",
       "      <td>ett</td>\n",
       "      <td>-16362.858602</td>\n",
       "      <td>610.483729</td>\n",
       "    </tr>\n",
       "  </tbody>\n",
       "</table>\n",
       "</div>"
      ],
      "text/plain": [
       "  measure         value           sd\n",
       "0      tv -15053.691747  1050.799189\n",
       "1   ctfde  -7774.158675   762.297314\n",
       "2   ctfie   8588.699927   668.569644\n",
       "3   ctfse  -1309.166855   733.564698\n",
       "4     ett -16362.858602   610.483729"
      ]
     },
     "execution_count": 12,
     "metadata": {},
     "output_type": "execute_result"
    }
   ],
   "source": [
    "fc_census.summary()"
   ]
  },
  {
   "cell_type": "code",
   "execution_count": 13,
   "metadata": {},
   "outputs": [
    {
     "ename": "NameError",
     "evalue": "name 'x' is not defined",
     "output_type": "error",
     "traceback": [
      "\u001b[31m---------------------------------------------------------------------------\u001b[39m",
      "\u001b[31mNameError\u001b[39m                                 Traceback (most recent call last)",
      "\u001b[36mCell\u001b[39m\u001b[36m \u001b[39m\u001b[32mIn[13]\u001b[39m\u001b[32m, line 1\u001b[39m\n\u001b[32m----> \u001b[39m\u001b[32m1\u001b[39m \u001b[43mx\u001b[49m[x[\u001b[33m'\u001b[39m\u001b[33mmeasure\u001b[39m\u001b[33m'\u001b[39m] == \u001b[33m'\u001b[39m\u001b[33mtv\u001b[39m\u001b[33m'\u001b[39m][\u001b[33m'\u001b[39m\u001b[33mvalue\u001b[39m\u001b[33m'\u001b[39m]\n",
      "\u001b[31mNameError\u001b[39m: name 'x' is not defined"
     ]
    }
   ],
   "source": [
    "x[x['measure'] == 'tv']['value']"
   ]
  },
  {
   "cell_type": "code",
   "execution_count": null,
   "metadata": {},
   "outputs": [],
   "source": []
  }
 ],
 "metadata": {
  "kernelspec": {
   "display_name": "cfa",
   "language": "python",
   "name": "python3"
  },
  "language_info": {
   "codemirror_mode": {
    "name": "ipython",
    "version": 3
   },
   "file_extension": ".py",
   "mimetype": "text/x-python",
   "name": "python",
   "nbconvert_exporter": "python",
   "pygments_lexer": "ipython3",
   "version": "3.13.3"
  }
 },
 "nbformat": 4,
 "nbformat_minor": 2
}
