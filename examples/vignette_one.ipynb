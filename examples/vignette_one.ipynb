{
 "cells": [
  {
   "cell_type": "markdown",
   "metadata": {},
   "source": [
    "## Census Dataset Analysis"
   ]
  },
  {
   "cell_type": "markdown",
   "metadata": {},
   "source": [
    "The United States Census of 2018 collected broad information about the US Government employees, including demographic information $Z$, ($Z_1$ for age, $Z_2$ for race, $Z_3$ for nationality), gender $X$, ($x_0$ female, $x_1$ male), marital and family status $M$, education info $L$, and work info $R$"
   ]
  },
  {
   "cell_type": "markdown",
   "metadata": {},
   "source": [
    "### loading in modules"
   ]
  },
  {
   "cell_type": "code",
   "execution_count": 1,
   "metadata": {},
   "outputs": [],
   "source": [
    "import numpy as np\n",
    "import pandas as pd\n",
    "import matplotlib.pyplot as plt\n",
    "import seaborn as sns\n",
    "import rpy2.robjects as robjects\n",
    "import rpy2.robjects.pandas2ri as pandas2ri\n",
    "from rpy2.robjects.conversion import localconverter\n",
    "from rpy2.robjects.packages import importr, isinstalled\n",
    "import rpy2.robjects.packages as rpackages\n",
    "from rpy2.robjects import r\n",
    "import sys\n",
    "\n",
    "import sys\n",
    "sys.path.insert(0, '/Users/alanma/Documents/CFA_python')\n",
    "import faircause.faircause as faircause\n"
   ]
  },
  {
   "cell_type": "code",
   "execution_count": 2,
   "metadata": {},
   "outputs": [
    {
     "name": "stdout",
     "output_type": "stream",
     "text": [
      "Is faircause installed now? True\n"
     ]
    }
   ],
   "source": [
    "# Ensure faircause is installed (either using conda or R)\n",
    "\n",
    "print(\"Is faircause installed now?\", isinstalled('faircause'))\n"
   ]
  },
  {
   "cell_type": "markdown",
   "metadata": {},
   "source": [
    "### loading in dataset"
   ]
  },
  {
   "cell_type": "code",
   "execution_count": null,
   "metadata": {},
   "outputs": [
    {
     "name": "stdout",
     "output_type": "stream",
     "text": [
      "\n",
      "    WARNING: The R package \"reticulate\" only fixed recently\n",
      "    an issue that caused a segfault when used with rpy2:\n",
      "    https://github.com/rstudio/reticulate/pull/1188\n",
      "    Make sure that you use a version of that package that includes\n",
      "    the fix.\n",
      "    "
     ]
    }
   ],
   "source": [
    "# import\n",
    "base = importr('base')\n",
    "faircause = importr('faircause')\n",
    "\n",
    "# Load census dataset\n",
    "data = robjects.r('''\n",
    "    data(\"gov_census\", package = \"faircause\")\n",
    "    gov_census[seq_len(20000), ]  # Take first 20000 rows as in the vignette\n",
    "''')\n",
    "\n",
    "# Rename columns to match the vignette\n",
    "data.columns = ['sex', 'age', 'race', 'hispanic_origin', 'citizenship', 'nativity',\n",
    "                'marital', 'family_size', 'children', 'education_level', 'english_level',\n",
    "                'salary', 'hours_worked', 'weeks_worked', 'occupation', 'industry',\n",
    "                'economic_region']\n",
    "\n",
    "# Convert to pd\n",
    "with localconverter(robjects.default_converter + pandas2ri.converter):\n",
    "  data = robjects.conversion.rpy2py(data)\n",
    "data.reset_index(drop=True, inplace=True)"
   ]
  },
  {
   "cell_type": "code",
   "execution_count": 15,
   "metadata": {},
   "outputs": [
    {
     "data": {
      "text/html": [
       "<div>\n",
       "<style scoped>\n",
       "    .dataframe tbody tr th:only-of-type {\n",
       "        vertical-align: middle;\n",
       "    }\n",
       "\n",
       "    .dataframe tbody tr th {\n",
       "        vertical-align: top;\n",
       "    }\n",
       "\n",
       "    .dataframe thead th {\n",
       "        text-align: right;\n",
       "    }\n",
       "</style>\n",
       "<table border=\"1\" class=\"dataframe\">\n",
       "  <thead>\n",
       "    <tr style=\"text-align: right;\">\n",
       "      <th></th>\n",
       "      <th>sex</th>\n",
       "      <th>age</th>\n",
       "      <th>race</th>\n",
       "      <th>hispanic_origin</th>\n",
       "      <th>citizenship</th>\n",
       "      <th>nativity</th>\n",
       "      <th>marital</th>\n",
       "      <th>family_size</th>\n",
       "      <th>children</th>\n",
       "      <th>education_level</th>\n",
       "      <th>english_level</th>\n",
       "      <th>salary</th>\n",
       "      <th>hours_worked</th>\n",
       "      <th>weeks_worked</th>\n",
       "      <th>occupation</th>\n",
       "      <th>industry</th>\n",
       "      <th>economic_region</th>\n",
       "    </tr>\n",
       "  </thead>\n",
       "  <tbody>\n",
       "    <tr>\n",
       "      <th>0</th>\n",
       "      <td>male</td>\n",
       "      <td>64.0</td>\n",
       "      <td>black</td>\n",
       "      <td>no</td>\n",
       "      <td>1.0</td>\n",
       "      <td>native</td>\n",
       "      <td>married</td>\n",
       "      <td>2.0</td>\n",
       "      <td>0.0</td>\n",
       "      <td>20.0</td>\n",
       "      <td>0.0</td>\n",
       "      <td>43000.0</td>\n",
       "      <td>56.0</td>\n",
       "      <td>49.0</td>\n",
       "      <td>13-1081</td>\n",
       "      <td>928P</td>\n",
       "      <td>Southeast</td>\n",
       "    </tr>\n",
       "    <tr>\n",
       "      <th>1</th>\n",
       "      <td>female</td>\n",
       "      <td>54.0</td>\n",
       "      <td>white</td>\n",
       "      <td>no</td>\n",
       "      <td>1.0</td>\n",
       "      <td>native</td>\n",
       "      <td>married</td>\n",
       "      <td>3.0</td>\n",
       "      <td>1.0</td>\n",
       "      <td>20.0</td>\n",
       "      <td>0.0</td>\n",
       "      <td>45000.0</td>\n",
       "      <td>42.0</td>\n",
       "      <td>49.0</td>\n",
       "      <td>29-2061</td>\n",
       "      <td>6231</td>\n",
       "      <td>Southeast</td>\n",
       "    </tr>\n",
       "    <tr>\n",
       "      <th>2</th>\n",
       "      <td>male</td>\n",
       "      <td>38.0</td>\n",
       "      <td>black</td>\n",
       "      <td>no</td>\n",
       "      <td>1.0</td>\n",
       "      <td>native</td>\n",
       "      <td>married</td>\n",
       "      <td>3.0</td>\n",
       "      <td>1.0</td>\n",
       "      <td>24.0</td>\n",
       "      <td>0.0</td>\n",
       "      <td>99000.0</td>\n",
       "      <td>50.0</td>\n",
       "      <td>49.0</td>\n",
       "      <td>25-1000</td>\n",
       "      <td>611M1</td>\n",
       "      <td>Southeast</td>\n",
       "    </tr>\n",
       "    <tr>\n",
       "      <th>3</th>\n",
       "      <td>female</td>\n",
       "      <td>41.0</td>\n",
       "      <td>asian</td>\n",
       "      <td>no</td>\n",
       "      <td>1.0</td>\n",
       "      <td>native</td>\n",
       "      <td>married</td>\n",
       "      <td>3.0</td>\n",
       "      <td>1.0</td>\n",
       "      <td>24.0</td>\n",
       "      <td>0.0</td>\n",
       "      <td>63000.0</td>\n",
       "      <td>50.0</td>\n",
       "      <td>49.0</td>\n",
       "      <td>25-1000</td>\n",
       "      <td>611M1</td>\n",
       "      <td>Southeast</td>\n",
       "    </tr>\n",
       "    <tr>\n",
       "      <th>4</th>\n",
       "      <td>female</td>\n",
       "      <td>40.0</td>\n",
       "      <td>white</td>\n",
       "      <td>no</td>\n",
       "      <td>1.0</td>\n",
       "      <td>native</td>\n",
       "      <td>married</td>\n",
       "      <td>4.0</td>\n",
       "      <td>2.0</td>\n",
       "      <td>21.0</td>\n",
       "      <td>0.0</td>\n",
       "      <td>45200.0</td>\n",
       "      <td>40.0</td>\n",
       "      <td>49.0</td>\n",
       "      <td>27-1010</td>\n",
       "      <td>611M1</td>\n",
       "      <td>Southeast</td>\n",
       "    </tr>\n",
       "  </tbody>\n",
       "</table>\n",
       "</div>"
      ],
      "text/plain": [
       "      sex   age   race hispanic_origin  citizenship nativity  marital  \\\n",
       "0    male  64.0  black              no          1.0   native  married   \n",
       "1  female  54.0  white              no          1.0   native  married   \n",
       "2    male  38.0  black              no          1.0   native  married   \n",
       "3  female  41.0  asian              no          1.0   native  married   \n",
       "4  female  40.0  white              no          1.0   native  married   \n",
       "\n",
       "   family_size  children  education_level  english_level   salary  \\\n",
       "0          2.0       0.0             20.0            0.0  43000.0   \n",
       "1          3.0       1.0             20.0            0.0  45000.0   \n",
       "2          3.0       1.0             24.0            0.0  99000.0   \n",
       "3          3.0       1.0             24.0            0.0  63000.0   \n",
       "4          4.0       2.0             21.0            0.0  45200.0   \n",
       "\n",
       "   hours_worked  weeks_worked occupation industry economic_region  \n",
       "0          56.0          49.0    13-1081     928P       Southeast  \n",
       "1          42.0          49.0    29-2061     6231       Southeast  \n",
       "2          50.0          49.0    25-1000    611M1       Southeast  \n",
       "3          50.0          49.0    25-1000    611M1       Southeast  \n",
       "4          40.0          49.0    27-1010    611M1       Southeast  "
      ]
     },
     "execution_count": 15,
     "metadata": {},
     "output_type": "execute_result"
    }
   ],
   "source": [
    "data.head()"
   ]
  },
  {
   "cell_type": "code",
   "execution_count": 5,
   "metadata": {},
   "outputs": [],
   "source": [
    "# placing columns\n",
    "X = \"sex\"\n",
    "W = [\"marital\", \"family_size\", \"children\", \"education_level\",\n",
    "    \"english_level\", \"hours_worked\", \"weeks_worked\", \"occupation\",\n",
    "    \"industry\"]\n",
    "Z = [\"age\", \"race\", \"hispanic_origin\", \"citizenship\", \"nativity\",\n",
    "    \"economic_region\"]\n",
    "Y = \"salary\"\n",
    "x0 = \"male\"\n",
    "x1 = \"female\"\n"
   ]
  },
  {
   "cell_type": "markdown",
   "metadata": {},
   "source": [
    "### Prelims"
   ]
  },
  {
   "cell_type": "markdown",
   "metadata": {},
   "source": [
    "A data scientist loads the data and performs the following initial analysis:"
   ]
  },
  {
   "cell_type": "code",
   "execution_count": 14,
   "metadata": {},
   "outputs": [
    {
     "data": {
      "text/plain": [
       "np.float64(-15053.691747379096)"
      ]
     },
     "execution_count": 14,
     "metadata": {},
     "output_type": "execute_result"
    }
   ],
   "source": [
    "np.mean(data[Y][data[X] == x1]) - np.mean(data[Y][data[X] == x0])"
   ]
  },
  {
   "cell_type": "markdown",
   "metadata": {},
   "source": [
    "Therefore, the data scientist observed that male employees on average earn $15000/year more than female employees, that is\n",
    "$$E[y-x_1] - E[y - x_0] = 15054$$\n"
   ]
  },
  {
   "cell_type": "markdown",
   "metadata": {},
   "source": [
    "### CFA"
   ]
  },
  {
   "cell_type": "markdown",
   "metadata": {},
   "source": [
    "Following the Fairness Cookbook, the data scientist does the following:\n",
    "\n",
    "SFM projection: the SFM projection of the causal diagram \n",
    "$G$ of this dataset is given by\n",
    "$$\\Pi_{SFM} (G) = \\langle X = \\{X\\}, Z = \\{Z_1, Z_2, Z_3\\}, W = \\{M, L, R\\}, Y = \\{Y\\}\\rangle$$\n",
    "She then inputs this SFM projection into the faircause Python package,\n",
    "\n"
   ]
  },
  {
   "cell_type": "code",
   "execution_count": 6,
   "metadata": {},
   "outputs": [],
   "source": [
    "import faircause.faircause as faircause\n",
    "\n",
    "fc_census = faircause.FairCause(data, X, Z, W, Y, x0, x1)"
   ]
  },
  {
   "cell_type": "code",
   "execution_count": 7,
   "metadata": {},
   "outputs": [
    {
     "name": "stdout",
     "output_type": "stream",
     "text": [
      "faircause object:\n",
      "\n",
      "Attribute:       sex\n",
      "Outcome:         salary\n",
      "Confounders:     marital, family_size, children, education_level, english_level, hours_worked, weeks_worked, occupation, industry\n",
      "Mediators:       age, race, hispanic_origin, citizenship, nativity, economic_region\n"
     ]
    }
   ],
   "source": [
    "print(fc_census)"
   ]
  },
  {
   "cell_type": "code",
   "execution_count": 8,
   "metadata": {},
   "outputs": [
    {
     "name": "stderr",
     "output_type": "stream",
     "text": [
      "/Users/alanma/Documents/CFA_python/faircause/estimation/mediation_dml.py:155: RuntimeWarning: divide by zero encountered in divide\n",
      "  y0[ts] = (Y.loc[ts].values - y_z0_ts) * (X.loc[ts] == 0).values / (1-px_z_ts) + y_z0_ts\n",
      "/Users/alanma/Documents/CFA_python/faircause/estimation/mediation_dml.py:155: RuntimeWarning: invalid value encountered in divide\n",
      "  y0[ts] = (Y.loc[ts].values - y_z0_ts) * (X.loc[ts] == 0).values / (1-px_z_ts) + y_z0_ts\n",
      "/Users/alanma/Documents/CFA_python/faircause/estimation/mediation_dml.py:156: RuntimeWarning: divide by zero encountered in divide\n",
      "  y1[ts] = (Y.loc[ts].values - y_z1_ts) * (X.loc[ts] == 1).values / (px_z_ts) + y_z1_ts\n",
      "/Users/alanma/Documents/CFA_python/faircause/estimation/mediation_dml.py:156: RuntimeWarning: invalid value encountered in divide\n",
      "  y1[ts] = (Y.loc[ts].values - y_z1_ts) * (X.loc[ts] == 1).values / (px_z_ts) + y_z1_ts\n",
      "/Users/alanma/Documents/CFA_python/faircause/estimation/mediation_dml.py:155: RuntimeWarning: divide by zero encountered in divide\n",
      "  y0[ts] = (Y.loc[ts].values - y_z0_ts) * (X.loc[ts] == 0).values / (1-px_z_ts) + y_z0_ts\n",
      "/Users/alanma/Documents/CFA_python/faircause/estimation/mediation_dml.py:155: RuntimeWarning: invalid value encountered in divide\n",
      "  y0[ts] = (Y.loc[ts].values - y_z0_ts) * (X.loc[ts] == 0).values / (1-px_z_ts) + y_z0_ts\n",
      "/Users/alanma/Documents/CFA_python/faircause/estimation/mediation_dml.py:156: RuntimeWarning: divide by zero encountered in divide\n",
      "  y1[ts] = (Y.loc[ts].values - y_z1_ts) * (X.loc[ts] == 1).values / (px_z_ts) + y_z1_ts\n",
      "/Users/alanma/Documents/CFA_python/faircause/estimation/mediation_dml.py:156: RuntimeWarning: invalid value encountered in divide\n",
      "  y1[ts] = (Y.loc[ts].values - y_z1_ts) * (X.loc[ts] == 1).values / (px_z_ts) + y_z1_ts\n",
      "/Users/alanma/Documents/CFA_python/faircause/estimation/mediation_dml.py:155: RuntimeWarning: divide by zero encountered in divide\n",
      "  y0[ts] = (Y.loc[ts].values - y_z0_ts) * (X.loc[ts] == 0).values / (1-px_z_ts) + y_z0_ts\n",
      "/Users/alanma/Documents/CFA_python/faircause/estimation/mediation_dml.py:155: RuntimeWarning: invalid value encountered in divide\n",
      "  y0[ts] = (Y.loc[ts].values - y_z0_ts) * (X.loc[ts] == 0).values / (1-px_z_ts) + y_z0_ts\n",
      "/Users/alanma/Documents/CFA_python/faircause/estimation/mediation_dml.py:156: RuntimeWarning: divide by zero encountered in divide\n",
      "  y1[ts] = (Y.loc[ts].values - y_z1_ts) * (X.loc[ts] == 1).values / (px_z_ts) + y_z1_ts\n",
      "/Users/alanma/Documents/CFA_python/faircause/estimation/mediation_dml.py:156: RuntimeWarning: invalid value encountered in divide\n",
      "  y1[ts] = (Y.loc[ts].values - y_z1_ts) * (X.loc[ts] == 1).values / (px_z_ts) + y_z1_ts\n",
      "/Users/alanma/Documents/CFA_python/faircause/estimation/mediation_dml.py:155: RuntimeWarning: divide by zero encountered in divide\n",
      "  y0[ts] = (Y.loc[ts].values - y_z0_ts) * (X.loc[ts] == 0).values / (1-px_z_ts) + y_z0_ts\n",
      "/Users/alanma/Documents/CFA_python/faircause/estimation/mediation_dml.py:155: RuntimeWarning: invalid value encountered in divide\n",
      "  y0[ts] = (Y.loc[ts].values - y_z0_ts) * (X.loc[ts] == 0).values / (1-px_z_ts) + y_z0_ts\n",
      "/Users/alanma/Documents/CFA_python/faircause/estimation/mediation_dml.py:156: RuntimeWarning: divide by zero encountered in divide\n",
      "  y1[ts] = (Y.loc[ts].values - y_z1_ts) * (X.loc[ts] == 1).values / (px_z_ts) + y_z1_ts\n",
      "/Users/alanma/Documents/CFA_python/faircause/estimation/mediation_dml.py:156: RuntimeWarning: invalid value encountered in divide\n",
      "  y1[ts] = (Y.loc[ts].values - y_z1_ts) * (X.loc[ts] == 1).values / (px_z_ts) + y_z1_ts\n",
      "/Users/alanma/Documents/CFA_python/faircause/estimation/mediation_dml.py:155: RuntimeWarning: divide by zero encountered in divide\n",
      "  y0[ts] = (Y.loc[ts].values - y_z0_ts) * (X.loc[ts] == 0).values / (1-px_z_ts) + y_z0_ts\n",
      "/Users/alanma/Documents/CFA_python/faircause/estimation/mediation_dml.py:155: RuntimeWarning: invalid value encountered in divide\n",
      "  y0[ts] = (Y.loc[ts].values - y_z0_ts) * (X.loc[ts] == 0).values / (1-px_z_ts) + y_z0_ts\n",
      "/Users/alanma/Documents/CFA_python/faircause/estimation/mediation_dml.py:156: RuntimeWarning: invalid value encountered in divide\n",
      "  y1[ts] = (Y.loc[ts].values - y_z1_ts) * (X.loc[ts] == 1).values / (px_z_ts) + y_z1_ts\n"
     ]
    },
    {
     "name": "stdout",
     "output_type": "stream",
     "text": [
      "4.11 percent of extreme P(x|z) or p(x|z,w) prob\n",
      " Reported results are for the overlap pop. Consider investigating overlap issues\n"
     ]
    }
   ],
   "source": [
    "fc_census.estimate_effects()"
   ]
  },
  {
   "cell_type": "code",
   "execution_count": 9,
   "metadata": {},
   "outputs": [
    {
     "name": "stdout",
     "output_type": "stream",
     "text": [
      "faircause object summary:\n",
      "\n",
      "Protected attribute:                 sex\n",
      "Protected attribute levels:          male, female\n",
      "Total Variation (TV): -15082.1394\n",
      "\n",
      "TV decomposition(s):\n",
      "\n",
      "TV_malefemale(y) (-15082.1394) = CtfDE_malefemale(y | male) (-9920.4874) - CtfIE_femalemale(y | male) (6018.2695) - CtfSE_femalemale(y) (-856.6176)\n"
     ]
    },
    {
     "data": {
      "text/html": [
       "<div>\n",
       "<style scoped>\n",
       "    .dataframe tbody tr th:only-of-type {\n",
       "        vertical-align: middle;\n",
       "    }\n",
       "\n",
       "    .dataframe tbody tr th {\n",
       "        vertical-align: top;\n",
       "    }\n",
       "\n",
       "    .dataframe thead th {\n",
       "        text-align: right;\n",
       "    }\n",
       "</style>\n",
       "<table border=\"1\" class=\"dataframe\">\n",
       "  <thead>\n",
       "    <tr style=\"text-align: right;\">\n",
       "      <th></th>\n",
       "      <th>measure</th>\n",
       "      <th>value</th>\n",
       "      <th>sd</th>\n",
       "    </tr>\n",
       "  </thead>\n",
       "  <tbody>\n",
       "    <tr>\n",
       "      <th>0</th>\n",
       "      <td>ctfde</td>\n",
       "      <td>-9920.487384</td>\n",
       "      <td>1461.949418</td>\n",
       "    </tr>\n",
       "    <tr>\n",
       "      <th>1</th>\n",
       "      <td>ctfie</td>\n",
       "      <td>6018.269539</td>\n",
       "      <td>1558.745613</td>\n",
       "    </tr>\n",
       "    <tr>\n",
       "      <th>2</th>\n",
       "      <td>ctfse</td>\n",
       "      <td>-856.617566</td>\n",
       "      <td>441.658657</td>\n",
       "    </tr>\n",
       "    <tr>\n",
       "      <th>3</th>\n",
       "      <td>ett</td>\n",
       "      <td>-15938.756922</td>\n",
       "      <td>495.863841</td>\n",
       "    </tr>\n",
       "    <tr>\n",
       "      <th>4</th>\n",
       "      <td>expse_x0</td>\n",
       "      <td>-172.292439</td>\n",
       "      <td>856.265375</td>\n",
       "    </tr>\n",
       "    <tr>\n",
       "      <th>5</th>\n",
       "      <td>expse_x1</td>\n",
       "      <td>581.012186</td>\n",
       "      <td>994.533670</td>\n",
       "    </tr>\n",
       "    <tr>\n",
       "      <th>6</th>\n",
       "      <td>nde</td>\n",
       "      <td>-3885.507979</td>\n",
       "      <td>2745.580159</td>\n",
       "    </tr>\n",
       "    <tr>\n",
       "      <th>7</th>\n",
       "      <td>nie</td>\n",
       "      <td>11949.936002</td>\n",
       "      <td>2919.327219</td>\n",
       "    </tr>\n",
       "    <tr>\n",
       "      <th>8</th>\n",
       "      <td>te</td>\n",
       "      <td>-15835.443981</td>\n",
       "      <td>1466.562397</td>\n",
       "    </tr>\n",
       "    <tr>\n",
       "      <th>9</th>\n",
       "      <td>tv</td>\n",
       "      <td>-15082.139356</td>\n",
       "      <td>675.306635</td>\n",
       "    </tr>\n",
       "  </tbody>\n",
       "</table>\n",
       "</div>"
      ],
      "text/plain": [
       "    measure         value           sd\n",
       "0     ctfde  -9920.487384  1461.949418\n",
       "1     ctfie   6018.269539  1558.745613\n",
       "2     ctfse   -856.617566   441.658657\n",
       "3       ett -15938.756922   495.863841\n",
       "4  expse_x0   -172.292439   856.265375\n",
       "5  expse_x1    581.012186   994.533670\n",
       "6       nde  -3885.507979  2745.580159\n",
       "7       nie  11949.936002  2919.327219\n",
       "8        te -15835.443981  1466.562397\n",
       "9        tv -15082.139356   675.306635"
      ]
     },
     "execution_count": 9,
     "metadata": {},
     "output_type": "execute_result"
    }
   ],
   "source": [
    "fc_census.summary()"
   ]
  },
  {
   "cell_type": "code",
   "execution_count": 12,
   "metadata": {},
   "outputs": [
    {
     "name": "stderr",
     "output_type": "stream",
     "text": [
      "/Users/alanma/Documents/CFA_python/faircause/utils/generics.py:106: FutureWarning: \n",
      "\n",
      "Passing `palette` without assigning `hue` is deprecated and will be removed in v0.14.0. Assign the `x` variable to `hue` and set `legend=False` for the same effect.\n",
      "\n",
      "  ax = sns.barplot(x='Measure', y='Value', data=df, palette='Set2')\n",
      "/Users/alanma/Documents/CFA_python/faircause/utils/generics.py:119: UserWarning: set_ticklabels() should only be used with a fixed number of ticks, i.e. after set_ticks() or using a FixedLocator.\n",
      "  ax.set_xticklabels([rename.get(m, m) for m in df['Measure']], rotation=45, ha='right')\n"
     ]
    },
    {
     "data": {
      "image/png": "[encoded data removed]",
      "text/plain": [
       "<Figure size 1200x800 with 1 Axes>"
      ]
     },
     "metadata": {},
     "output_type": "display_data"
    }
   ],
   "source": [
    "plot = fc_census.plot()\n"
   ]
  },
  {
   "cell_type": "markdown",
   "metadata": {},
   "source": [
    "Using these results, she considers the following: \n",
    "\n",
    "\\textbf{Disparate treatment:} when considering disparate treatment, she computes $x\\text{-DE}_{x_0, x_1}(y | x_0)$ and its 95% CI to be\n",
    "$$x\\text{-DE}_{x_0, x_1}(y|x_0)= \t-9920.48 \\pm 1461.94$$\n",
    "The hypothesis $H_0^{(x\\text{-DE})}$ is thus rejected, providing evidence of disparate treatment"
   ]
  },
  {
   "cell_type": "code",
   "execution_count": null,
   "metadata": {},
   "outputs": [],
   "source": []
  }
 ],
 "metadata": {
  "kernelspec": {
   "display_name": "cfa",
   "language": "python",
   "name": "python3"
  },
  "language_info": {
   "codemirror_mode": {
    "name": "ipython",
    "version": 3
   },
   "file_extension": ".py",
   "mimetype": "text/x-python",
   "name": "python",
   "nbconvert_exporter": "python",
   "pygments_lexer": "ipython3",
   "version": "3.13.3"
  }
 },
 "nbformat": 4,
 "nbformat_minor": 2
}
