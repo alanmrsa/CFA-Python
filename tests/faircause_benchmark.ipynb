{
 "cells": [
  {
   "cell_type": "markdown",
   "metadata": {},
   "source": [
    "# FairCause Benchmarking\n",
    "\n",
    "This is a notebook for benchmarking the performance of the faircause causal estimation using a synthetic SCM. "
   ]
  },
  {
   "cell_type": "code",
   "execution_count": 1,
   "metadata": {},
   "outputs": [],
   "source": [
    "import sys\n",
    "sys.path.insert(0, '/Users/alanma/Documents/CFA_python')\n"
   ]
  },
  {
   "cell_type": "code",
   "execution_count": 2,
   "metadata": {},
   "outputs": [
    {
     "name": "stdout",
     "output_type": "stream",
     "text": [
      "TV 0.30000000000000004\n",
      "NDE 0.204\n",
      "NIE 0.0\n",
      "ExpSE_x0 -0.09600000000000002\n",
      "ExpSE_x1 1.214306433183765e-17\n",
      "xde 0.3\n",
      "xie 0.0\n",
      "xse -5.377642775528102e-17\n",
      "0.30000000000000004\n",
      "0.204\n",
      "0.09600000000000003\n"
     ]
    }
   ],
   "source": [
    "import numpy as numpy\n",
    "import pandas as pd\n",
    "import matplotlib.pyplot as plt\n",
    "from faircause.faircause import FairCause\n",
    "from tests.synthetic_data import *"
   ]
  },
  {
   "cell_type": "code",
   "execution_count": 3,
   "metadata": {},
   "outputs": [],
   "source": [
    "# calculate ground truth effects\n",
    "pux = 0.4\n",
    "puz = 0.8\n",
    "puw = 0.2\n",
    "puy = 0.3\n",
    "puxz = 0.4\n",
    "\n",
    "def X(U_x, U_xz): \n",
    "    return U_x | U_xz\n",
    "def Z(U_xz, U_z): \n",
    "    return U_xz & U_z\n",
    "def W(X, U_w, Z): \n",
    "    return (X & U_w )| Z\n",
    "def Y(U_y, X, Z, W): \n",
    "    return (U_y & X) | (U_y & Z) | (U_y & W)\n",
    "\n",
    "\n"
   ]
  },
  {
   "cell_type": "code",
   "execution_count": 4,
   "metadata": {},
   "outputs": [
    {
     "name": "stdout",
     "output_type": "stream",
     "text": [
      "TV 0.30000000000000004\n",
      "NDE 0.204\n",
      "NIE 0.0\n",
      "ExpSE_x0 -0.09600000000000002\n",
      "ExpSE_x1 1.214306433183765e-17\n",
      "xde 0.3\n",
      "xie 0.0\n",
      "xse -5.377642775528102e-17\n",
      "0.30000000000000004\n",
      "0.204\n",
      "0.09600000000000003\n"
     ]
    }
   ],
   "source": [
    "compute_true_effects(pux, puz, puw, puy, puxz, X, Z, W, Y)"
   ]
  },
  {
   "cell_type": "code",
   "execution_count": 5,
   "metadata": {},
   "outputs": [],
   "source": [
    "gen_data(10000, X, Z, W, Y, pux, puz, puw, puy, puxz).to_csv('test_data.csv')"
   ]
  },
  {
   "cell_type": "code",
   "execution_count": null,
   "metadata": {},
   "outputs": [
    {
     "name": "stdout",
     "output_type": "stream",
     "text": [
      "  measure     value        sd       scale\n",
      "0      tv  0.322981  0.019940  difference\n",
      "1   ctfde  0.309671  0.029534  difference\n",
      "2   ctfie -0.003707  0.010525  difference\n",
      "3   ctfse -0.009603  0.026661  difference\n",
      "4     ett  0.313379  0.027752  difference\n",
      "faircause object summary:\n",
      "\n",
      "Protected attribute:                 X\n",
      "Protected attribute levels:          0, 1\n",
      "Total Variation (TV): 0.3230\n",
      "\n",
      "TV decomposition(s):\n",
      "\n",
      "TV_01(y) (0.3230) = CtfDE_01(y | 0) (0.3097) - CtfIE_10(y | 0) (-0.0037) - CtfSE_10(y) (-0.0096)\n",
      "  measure     value        sd       scale\n",
      "0      tv  0.325816  0.014156  difference\n",
      "1   ctfde  0.323736  0.021737  difference\n",
      "2   ctfie  0.001744  0.007301  difference\n",
      "3   ctfse -0.003824  0.019585  difference\n",
      "4     ett  0.321992  0.020418  difference\n",
      "faircause object summary:\n",
      "\n",
      "Protected attribute:                 X\n",
      "Protected attribute levels:          0, 1\n",
      "Total Variation (TV): 0.3258\n",
      "\n",
      "TV decomposition(s):\n",
      "\n",
      "TV_01(y) (0.3258) = CtfDE_01(y | 0) (0.3237) - CtfIE_10(y | 0) (0.0017) - CtfSE_10(y) (-0.0038)\n",
      "  measure     value        sd       scale\n",
      "0      tv  0.309410  0.008920  difference\n",
      "1   ctfde  0.312850  0.014141  difference\n",
      "2   ctfie  0.002913  0.005751  difference\n",
      "3   ctfse  0.000528  0.012085  difference\n",
      "4     ett  0.309938  0.012801  difference\n",
      "faircause object summary:\n",
      "\n",
      "Protected attribute:                 X\n",
      "Protected attribute levels:          0, 1\n",
      "Total Variation (TV): 0.3094\n",
      "\n",
      "TV decomposition(s):\n",
      "\n",
      "TV_01(y) (0.3094) = CtfDE_01(y | 0) (0.3129) - CtfIE_10(y | 0) (0.0029) - CtfSE_10(y) (0.0005)\n",
      "  measure     value        sd       scale\n",
      "0      tv  0.303855  0.006212  difference\n",
      "1   ctfde  0.315050  0.010110  difference\n",
      "2   ctfie  0.008575  0.004000  difference\n",
      "3   ctfse  0.002619  0.008550  difference\n",
      "4     ett  0.306475  0.009122  difference\n",
      "faircause object summary:\n",
      "\n",
      "Protected attribute:                 X\n",
      "Protected attribute levels:          0, 1\n",
      "Total Variation (TV): 0.3039\n",
      "\n",
      "TV decomposition(s):\n",
      "\n",
      "TV_01(y) (0.3039) = CtfDE_01(y | 0) (0.3150) - CtfIE_10(y | 0) (0.0086) - CtfSE_10(y) (0.0026)\n",
      "  measure     value        sd       scale\n",
      "0      tv  0.300384  0.004361  difference\n",
      "1   ctfde  0.296813  0.006982  difference\n",
      "2   ctfie -0.002101  0.002841  difference\n",
      "3   ctfse -0.001470  0.006013  difference\n",
      "4     ett  0.298914  0.006412  difference\n",
      "faircause object summary:\n",
      "\n",
      "Protected attribute:                 X\n",
      "Protected attribute levels:          0, 1\n",
      "Total Variation (TV): 0.3004\n",
      "\n",
      "TV decomposition(s):\n",
      "\n",
      "TV_01(y) (0.3004) = CtfDE_01(y | 0) (0.2968) - CtfIE_10(y | 0) (-0.0021) - CtfSE_10(y) (-0.0015)\n",
      "  measure     value        sd       scale\n",
      "0      tv  0.300685  0.002764  difference\n",
      "1   ctfde  0.305911  0.004458  difference\n",
      "2   ctfie -0.000318  0.001830  difference\n",
      "3   ctfse  0.005545  0.003813  difference\n",
      "4     ett  0.306230  0.004069  difference\n",
      "faircause object summary:\n",
      "\n",
      "Protected attribute:                 X\n",
      "Protected attribute levels:          0, 1\n",
      "Total Variation (TV): 0.3007\n",
      "\n",
      "TV decomposition(s):\n",
      "\n",
      "TV_01(y) (0.3007) = CtfDE_01(y | 0) (0.3059) - CtfIE_10(y | 0) (-0.0003) - CtfSE_10(y) (0.0055)\n",
      "  measure     value        sd       scale\n",
      "0      tv  0.297284  0.001940  difference\n",
      "1   ctfde  0.299270  0.003120  difference\n",
      "2   ctfie  0.000053  0.001272  difference\n",
      "3   ctfse  0.001932  0.002666  difference\n",
      "4     ett  0.299216  0.002851  difference\n",
      "faircause object summary:\n",
      "\n",
      "Protected attribute:                 X\n",
      "Protected attribute levels:          0, 1\n",
      "Total Variation (TV): 0.2973\n",
      "\n",
      "TV decomposition(s):\n",
      "\n",
      "TV_01(y) (0.2973) = CtfDE_01(y | 0) (0.2993) - CtfIE_10(y | 0) (0.0001) - CtfSE_10(y) (0.0019)\n"
     ]
    }
   ],
   "source": [
    "# run experiments\n",
    "# add time benchmark\n",
    "\n",
    "sample_seq = [1000, 2000, 5000, 10000, 20000, 50000, 100000]\n",
    "tv_py = []\n",
    "tv_std_py = []\n",
    "xde_py = []\n",
    "xde_std_py= []\n",
    "xie_py = []\n",
    "xie_std_py = []\n",
    "xse_py = []\n",
    "xse_std_py = []\n",
    "nde = []\n",
    "\n",
    "for n_samples in sample_seq:\n",
    "    data = gen_data(n_samples, X, Z, W, Y, pux, puz, puw, puy, puxz)\n",
    "    fc = FairCause(data, 'X', ['Z'], ['W'], 'Y', x0=0, x1=1, method='debiasing')\n",
    "    fc.estimate_effects()\n",
    "    res = fc.summary()\n",
    "    nde.append(res[res['measure'] == 'nde']['value'])\n",
    "    tv_py.append(res[res['measure'] == 'tv']['value'])\n",
    "    tv_std_py.append(res[res['measure'] == 'tv']['sd'])\n",
    "    xde_py.append(res[res['measure'] == 'ctfde']['value'])\n",
    "    xde_std_py.append(res[res['measure'] == 'ctfde']['sd'])\n",
    "    xie_py.append(res[res['measure'] == 'ctfie']['value'])\n",
    "    xie_std_py.append(res[res['measure'] == 'ctfie']['sd'])\n",
    "    xse_py.append(res[res['measure'] == 'ctfse']['value'])\n",
    "    xse_std_py.append(res[res['measure'] == 'ctfse']['sd'])\n"
   ]
  },
  {
   "cell_type": "code",
   "execution_count": 7,
   "metadata": {},
   "outputs": [
    {
     "name": "stdout",
     "output_type": "stream",
     "text": [
      "faircause object summary:\n",
      "\n",
      "Protected attribute:                 X\n",
      "Protected attribute levels:          0, 1\n",
      "Total Variation (TV): 0.2973\n",
      "\n",
      "TV decomposition(s):\n",
      "\n",
      "TV_01(y) (0.2973) = CtfDE_01(y | 0) (0.2993) - CtfIE_10(y | 0) (0.0001) - CtfSE_10(y) (0.0019)\n"
     ]
    },
    {
     "data": {
      "text/html": [
       "<div>\n",
       "<style scoped>\n",
       "    .dataframe tbody tr th:only-of-type {\n",
       "        vertical-align: middle;\n",
       "    }\n",
       "\n",
       "    .dataframe tbody tr th {\n",
       "        vertical-align: top;\n",
       "    }\n",
       "\n",
       "    .dataframe thead th {\n",
       "        text-align: right;\n",
       "    }\n",
       "</style>\n",
       "<table border=\"1\" class=\"dataframe\">\n",
       "  <thead>\n",
       "    <tr style=\"text-align: right;\">\n",
       "      <th></th>\n",
       "      <th>measure</th>\n",
       "      <th>value</th>\n",
       "      <th>sd</th>\n",
       "    </tr>\n",
       "  </thead>\n",
       "  <tbody>\n",
       "    <tr>\n",
       "      <th>0</th>\n",
       "      <td>tv</td>\n",
       "      <td>0.297284</td>\n",
       "      <td>0.001940</td>\n",
       "    </tr>\n",
       "    <tr>\n",
       "      <th>1</th>\n",
       "      <td>ctfde</td>\n",
       "      <td>0.299270</td>\n",
       "      <td>0.003120</td>\n",
       "    </tr>\n",
       "    <tr>\n",
       "      <th>2</th>\n",
       "      <td>ctfie</td>\n",
       "      <td>0.000053</td>\n",
       "      <td>0.001272</td>\n",
       "    </tr>\n",
       "    <tr>\n",
       "      <th>3</th>\n",
       "      <td>ctfse</td>\n",
       "      <td>0.001932</td>\n",
       "      <td>0.002666</td>\n",
       "    </tr>\n",
       "    <tr>\n",
       "      <th>4</th>\n",
       "      <td>ett</td>\n",
       "      <td>0.299216</td>\n",
       "      <td>0.002851</td>\n",
       "    </tr>\n",
       "  </tbody>\n",
       "</table>\n",
       "</div>"
      ],
      "text/plain": [
       "  measure     value        sd\n",
       "0      tv  0.297284  0.001940\n",
       "1   ctfde  0.299270  0.003120\n",
       "2   ctfie  0.000053  0.001272\n",
       "3   ctfse  0.001932  0.002666\n",
       "4     ett  0.299216  0.002851"
      ]
     },
     "execution_count": 7,
     "metadata": {},
     "output_type": "execute_result"
    }
   ],
   "source": [
    "fc.summary()"
   ]
  },
  {
   "cell_type": "code",
   "execution_count": null,
   "metadata": {},
   "outputs": [],
   "source": []
  }
 ],
 "metadata": {
  "kernelspec": {
   "display_name": "cfa",
   "language": "python",
   "name": "python3"
  },
  "language_info": {
   "codemirror_mode": {
    "name": "ipython",
    "version": 3
   },
   "file_extension": ".py",
   "mimetype": "text/x-python",
   "name": "python",
   "nbconvert_exporter": "python",
   "pygments_lexer": "ipython3",
   "version": "3.13.3"
  }
 },
 "nbformat": 4,
 "nbformat_minor": 2
}
